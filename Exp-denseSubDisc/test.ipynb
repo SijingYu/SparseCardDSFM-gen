{
 "cells": [
  {
   "cell_type": "code",
   "execution_count": 129,
   "metadata": {},
   "outputs": [
    {
     "data": {
      "text/plain": [
       "34×34 SparseMatrixCSC{Float64, Int64} with 156 stored entries:\n",
       "⣮⡻⠉⢹⠥⠉⣹⠀⠘⠘⠘⠀⠀⠠⠄⠊⠄\n",
       "⣇⣀⠤⠃⠀⠃⠀⠀⠆⠀⠀⠀⠀⠀⠀⠀⠀\n",
       "⡅⠃⠤⠀⠀⠀⠀⠀⠀⠀⠀⠀⠀⠀⠀⠁⠙\n",
       "⠓⠚⠀⠀⠀⠀⠀⠀⠀⠀⠀⠀⠀⠀⠀⠀⣴\n",
       "⣒⠀⠈⠁⠀⠀⠀⠀⠀⠀⠀⠀⠀⠀⠀⠀⢤\n",
       "⠒⠀⠀⠀⠀⠀⠀⠀⠀⠀⠀⠀⢀⢀⢀⠀⣭\n",
       "⠀⡀⠀⠀⠀⠀⠀⠀⠀⠀⠀⢐⡊⠈⠠⠘⢠\n",
       "⡠⠁⠀⠀⠄⠀⠀⠀⠀⠀⠀⠐⣀⠂⡀⠈⣾\n",
       "⠀⠁⠀⠀⠓⠀⠐⠛⠀⠓⠃⠛⠀⠒⠚⠛⠊"
      ]
     },
     "execution_count": 129,
     "metadata": {},
     "output_type": "execute_result"
    }
   ],
   "source": [
    "using MatrixMarket, StatsBase, MAT, HDF5, JLD, SparseArrays\n",
    "include(\"algorithms/appro_algorithm.jl\")\n",
    "include(\"algorithms/exact_algorithm.jl\")\n",
    "minne = SparseMatrixCSC{Float64, Int64}(MatrixMarket.mmread(\"datasets/minnesota.mtx\"))\n",
    "karate = SparseMatrixCSC{Float64, Int64}(MatrixMarket.mmread(\"datasets/karate.mtx\"))"
   ]
  },
  {
   "cell_type": "code",
   "execution_count": 125,
   "metadata": {},
   "outputs": [
    {
     "name": "stdout",
     "output_type": "stream",
     "text": [
      "=========================== Starting the algorithm ===========================\n",
      "--------------------------- preparing the graph ---------------------------\n",
      "Size of the graph: 34 nodes\n",
      "Number of nodes to exclude: 3\n",
      "Number of auxiliary nodes: 17\n",
      "Sparsity: 0.9444444444444444\n",
      "Size of A shrink\n",
      "49\n",
      "--------------------------- Iteration: 1 ---------------------------\n",
      "Starting CoreCut Score: Inf\n",
      "Current BetaBest: 0.748059135346991\n",
      "Starting maxflow\n",
      "Size of S distorted\n",
      "23\n",
      "New DSG Score: 0.5477699931739539\n",
      "S updated to size of 23\n",
      "This iteration uses 0.0010459423065185547\n",
      "Size of the graph: 34 nodes\n",
      "Number of nodes to exclude: 3\n",
      "Number of auxiliary nodes: 17\n",
      "Sparsity: 0.9444444444444444\n",
      "Size of A shrink\n",
      "49\n",
      "--------------------------- Iteration: 2 ---------------------------\n",
      "Starting CoreCut Score: 0.748059135346991\n",
      "Current BetaBest: 0.5477699931739539\n",
      "Starting maxflow\n",
      "Size of S distorted\n",
      "19\n",
      "New DSG Score: 0.5110446699004773\n",
      "S updated to size of 19\n",
      "This iteration uses 0.001129150390625\n",
      "Size of the graph: 34 nodes\n",
      "Number of nodes to exclude: 3\n",
      "Number of auxiliary nodes: 17\n",
      "Sparsity: 0.9444444444444444\n",
      "Size of A shrink\n",
      "49\n",
      "--------------------------- Iteration: 3 ---------------------------\n",
      "Starting CoreCut Score: 0.5477699931739539\n",
      "Current BetaBest: 0.5110446699004773\n",
      "Starting maxflow\n",
      "Size of S distorted\n",
      "19\n",
      "New DSG Score: 0.5110446699004773\n",
      "=========================== Algorithm end here ===========================\n",
      "The algorithm uses 0.004945039749145508\n"
     ]
    },
    {
     "data": {
      "text/plain": [
       "([3, 9, 10, 15, 16, 19, 21, 23, 24, 25, 26, 27, 28, 29, 30, 31, 32, 33, 34], 0.5110446699004773)"
      ]
     },
     "execution_count": 125,
     "metadata": {},
     "output_type": "execute_result"
    }
   ],
   "source": [
    "a,b = approx_gen_dense_sub(karate, 0.0, 1.01, [1,2,5])"
   ]
  },
  {
   "cell_type": "code",
   "execution_count": 126,
   "metadata": {},
   "outputs": [
    {
     "data": {
      "text/plain": [
       "(0.5110446699004773, [3, 9, 10, 15, 16, 19, 21, 23, 24, 25, 26, 27, 28, 29, 30, 31, 32, 33, 34])"
      ]
     },
     "execution_count": 126,
     "metadata": {},
     "output_type": "execute_result"
    }
   ],
   "source": [
    "a,b = exact_algorithm(karate, [1,2,5], 1.01)"
   ]
  }
 ],
 "metadata": {
  "kernelspec": {
   "display_name": "Julia 1.6.2",
   "language": "julia",
   "name": "julia-1.6"
  },
  "language_info": {
   "file_extension": ".jl",
   "mimetype": "application/julia",
   "name": "julia",
   "version": "1.6.2"
  },
  "orig_nbformat": 4
 },
 "nbformat": 4,
 "nbformat_minor": 2
}
